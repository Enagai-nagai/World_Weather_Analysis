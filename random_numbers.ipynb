{
 "cells": [
  {
   "cell_type": "code",
   "execution_count": 1,
   "id": "fcc9b442",
   "metadata": {},
   "outputs": [],
   "source": [
    "# Import the random module.\n",
    "import random"
   ]
  },
  {
   "cell_type": "code",
   "execution_count": 4,
   "id": "bdafdbc6",
   "metadata": {},
   "outputs": [
    {
     "data": {
      "text/plain": [
       "-47"
      ]
     },
     "execution_count": 4,
     "metadata": {},
     "output_type": "execute_result"
    }
   ],
   "source": [
    "random.randint(-90, 90)"
   ]
  },
  {
   "cell_type": "code",
   "execution_count": 5,
   "id": "3f6d560f",
   "metadata": {},
   "outputs": [
    {
     "data": {
      "text/plain": [
       "0.16245498568154837"
      ]
     },
     "execution_count": 5,
     "metadata": {},
     "output_type": "execute_result"
    }
   ],
   "source": [
    "random.random()"
   ]
  },
  {
   "cell_type": "code",
   "execution_count": 6,
   "id": "95151a8d",
   "metadata": {},
   "outputs": [],
   "source": [
    "x = 1\n",
    "latitudes = []\n",
    "while x < 11:\n",
    "    random_lat = random.randint(-90, 89) + random.random()\n",
    "    latitudes.append(random_lat)\n",
    "    x += 1"
   ]
  },
  {
   "cell_type": "code",
   "execution_count": 8,
   "id": "cd6b34be",
   "metadata": {},
   "outputs": [
    {
     "data": {
      "text/plain": [
       "[2.8809404101369975,\n",
       " 82.58688055749897,\n",
       " -70.11578904774585,\n",
       " -60.54227600593339,\n",
       " 64.13128372088771,\n",
       " 61.44100564503043,\n",
       " 11.350530346350382,\n",
       " -13.659741581157036,\n",
       " -78.33596925186518,\n",
       " -43.7985200121414]"
      ]
     },
     "execution_count": 8,
     "metadata": {},
     "output_type": "execute_result"
    }
   ],
   "source": [
    "latitudes"
   ]
  },
  {
   "cell_type": "code",
   "execution_count": 19,
   "id": "52c1b4f2",
   "metadata": {},
   "outputs": [
    {
     "data": {
      "text/plain": [
       "54"
      ]
     },
     "execution_count": 19,
     "metadata": {},
     "output_type": "execute_result"
    }
   ],
   "source": [
    "random.randrange(-90, 90, step=3)"
   ]
  },
  {
   "cell_type": "code",
   "execution_count": 20,
   "id": "1ffbd048",
   "metadata": {},
   "outputs": [
    {
     "data": {
      "text/plain": [
       "6.409874321800601"
      ]
     },
     "execution_count": 20,
     "metadata": {},
     "output_type": "execute_result"
    }
   ],
   "source": [
    "random.uniform(-90, 90)"
   ]
  },
  {
   "cell_type": "code",
   "execution_count": 21,
   "id": "adc6fb4e",
   "metadata": {},
   "outputs": [],
   "source": [
    "# Import the NumPy mofule.\n",
    "import numpy as np"
   ]
  },
  {
   "cell_type": "code",
   "execution_count": 24,
   "id": "b5811b72",
   "metadata": {},
   "outputs": [
    {
     "data": {
      "text/plain": [
       "array([ 14.19885461, -80.23726314,   1.39431693,  83.79074949,\n",
       "       -23.02096655,  70.50744223, -31.39573143, -58.20770478,\n",
       "       -39.55734333, -14.86038253, -65.60247762, -85.47540605,\n",
       "        -8.83917651,  12.16770036, -44.55405561,  43.43345042,\n",
       "        48.12071412,  78.88741199,  -4.4001686 ,  75.19724327,\n",
       "        -0.22908316, -87.82200854, -70.76944064, -44.89308361,\n",
       "        68.13675871, -32.30311461, -75.37278131,  58.60822439,\n",
       "       -82.61813758, -75.8439794 ,  43.51840951, -65.56009687,\n",
       "       -88.11164768,   6.57034964, -51.30622215,  -2.51082963,\n",
       "        43.56613502, -81.81740419,  45.13332959,  32.40049733,\n",
       "       -77.55071125,  85.21900664,  -4.4979758 ,  36.74011488,\n",
       "       -12.60834554,  -4.10363815,  51.17874336,  76.56149738,\n",
       "        26.3286832 ,  19.43868632])"
      ]
     },
     "execution_count": 24,
     "metadata": {},
     "output_type": "execute_result"
    }
   ],
   "source": [
    "np.random.uniform(-90.000, 90.000, size = 50)"
   ]
  },
  {
   "cell_type": "code",
   "execution_count": 27,
   "id": "a0eb5cc0",
   "metadata": {},
   "outputs": [],
   "source": [
    "# Import timeit: To test how long a piece of code or function takes to run\n",
    "import timeit"
   ]
  },
  {
   "cell_type": "code",
   "execution_count": 29,
   "id": "611f5f3f",
   "metadata": {},
   "outputs": [
    {
     "name": "stdout",
     "output_type": "stream",
     "text": [
      "15.3 µs ± 802 ns per loop (mean ± std. dev. of 7 runs, 100000 loops each)\n"
     ]
    }
   ],
   "source": [
    "%timeit np.random.uniform(-90.000, 90.000, size=1500)"
   ]
  },
  {
   "cell_type": "code",
   "execution_count": 31,
   "id": "2e11dbcb",
   "metadata": {},
   "outputs": [
    {
     "name": "stdout",
     "output_type": "stream",
     "text": [
      "1.99 ms ± 75.7 µs per loop (mean ± std. dev. of 7 runs, 100 loops each)\n"
     ]
    }
   ],
   "source": [
    "def latitudes(size):\n",
    "    latitudes = []\n",
    "    x = 0\n",
    "    while x < (size):\n",
    "        random_lat = random.randint(-90, 90) + random.random()\n",
    "        latitudes.append(random_lat)\n",
    "        x += 1\n",
    "    return latitudes\n",
    "\n",
    "# Call the function with 1500.\n",
    "%timeit latitudes(1500)"
   ]
  },
  {
   "cell_type": "code",
   "execution_count": 32,
   "id": "96bb6bb7",
   "metadata": {},
   "outputs": [],
   "source": [
    "# the above means that the first method (npmrandom.uniform) is 100 times faster than the second one."
   ]
  },
  {
   "cell_type": "markdown",
   "id": "10a1cd26",
   "metadata": {},
   "source": [
    "### Practice Using Linear Regression"
   ]
  },
  {
   "cell_type": "code",
   "execution_count": 1,
   "id": "81dbfd88",
   "metadata": {},
   "outputs": [],
   "source": [
    "# IMport linear regression from the SciPy stats module.\n",
    "from scipy.stats import linregress"
   ]
  },
  {
   "cell_type": "code",
   "execution_count": 2,
   "id": "891c589b",
   "metadata": {},
   "outputs": [],
   "source": [
    "# Create an equal number of latitudes and temperatures.\n",
    "lats = [42.5, 43.9, 8.1, 36.8, 79.9, 69.1, 25.7, 15.3, 12.7, 64.5]\n",
    "temps = [80.5, 75.3, 90.9, 90.0, 40.4, 62.3, 85.4, 79.6, 72.5, 72.0]"
   ]
  },
  {
   "cell_type": "code",
   "execution_count": 7,
   "id": "f349ee31",
   "metadata": {},
   "outputs": [
    {
     "name": "stdout",
     "output_type": "stream",
     "text": [
      "y =-0.45x + 92.94\n",
      "The p-value is: 0.011\n"
     ]
    },
    {
     "data": {
      "text/plain": [
       "(-0.452929121241496,\n",
       " 92.93922548147363,\n",
       " -0.7590444753769936,\n",
       " 0.01089687086168761,\n",
       " 0.13734880392044935)"
      ]
     },
     "execution_count": 7,
     "metadata": {},
     "output_type": "execute_result"
    }
   ],
   "source": [
    "# Perform linear regression.\n",
    "(slope, intercept, r_value, p_value, std_err) = linregress(lats, temps)\n",
    "\n",
    "# Get the equation of the line.\n",
    "line_eq = \"y =\" + str(round(slope, 2)) + \"x + \"+ str(round(intercept,2))\n",
    "print(line_eq)\n",
    "print(f\"The p-value is: {p_value:.3f}\")\n",
    "\n",
    "(slope, intercept, r_value, p_value, std_err)"
   ]
  },
  {
   "cell_type": "code",
   "execution_count": 9,
   "id": "24361ea3",
   "metadata": {},
   "outputs": [],
   "source": [
    "# Calculate the regression line \"y values\" from the slope and intercept.\n",
    "regress_values = [(lat * slope + intercept) for lat in lats]\n"
   ]
  },
  {
   "cell_type": "code",
   "execution_count": 15,
   "id": "4476defa",
   "metadata": {},
   "outputs": [
    {
     "data": {
      "image/png": "[encoded data removed]",
      "text/plain": [
       "<Figure size 432x288 with 1 Axes>"
      ]
     },
     "metadata": {
      "needs_background": "light"
     },
     "output_type": "display_data"
    }
   ],
   "source": [
    "# Import Matplotlib\n",
    "import matplotlib.pyplot as plt\n",
    "\n",
    "# Create a scatter plot of the x and y values.\n",
    "plt.scatter(lats, temps)\n",
    "\n",
    "# Plot the regression line with the x-values and the y coordinates based on the intercept and slope.\n",
    "## the below \"r\" means the color red.\n",
    "plt.plot(lats, regress_values, \"r\")\n",
    "\n",
    "# Annotate the text for the line equation and add its coordinates.\n",
    "plt.annotate(line_eq, (10,40), fontsize=15, color=\"red\")\n",
    "plt.xlabel(\"Latitude\")\n",
    "plt.ylabel(\"temp\")\n",
    "plt.show()"
   ]
  }
 ],
 "metadata": {
  "kernelspec": {
   "display_name": "PythonData",
   "language": "python",
   "name": "pythondata"
  },
  "language_info": {
   "codemirror_mode": {
    "name": "ipython",
    "version": 3
   },
   "file_extension": ".py",
   "mimetype": "text/x-python",
   "name": "python",
   "nbconvert_exporter": "python",
   "pygments_lexer": "ipython3",
   "version": "3.7.11"
  }
 },
 "nbformat": 4,
 "nbformat_minor": 5
}
