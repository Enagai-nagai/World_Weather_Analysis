{
 "cells": [
  {
   "cell_type": "code",
   "execution_count": 1,
   "id": "fcc9b442",
   "metadata": {},
   "outputs": [],
   "source": [
    "# Import the random module.\n",
    "import random"
   ]
  },
  {
   "cell_type": "code",
   "execution_count": 4,
   "id": "bdafdbc6",
   "metadata": {},
   "outputs": [
    {
     "data": {
      "text/plain": [
       "-47"
      ]
     },
     "execution_count": 4,
     "metadata": {},
     "output_type": "execute_result"
    }
   ],
   "source": [
    "random.randint(-90, 90)"
   ]
  },
  {
   "cell_type": "code",
   "execution_count": 5,
   "id": "3f6d560f",
   "metadata": {},
   "outputs": [
    {
     "data": {
      "text/plain": [
       "0.16245498568154837"
      ]
     },
     "execution_count": 5,
     "metadata": {},
     "output_type": "execute_result"
    }
   ],
   "source": [
    "random.random()"
   ]
  },
  {
   "cell_type": "code",
   "execution_count": 6,
   "id": "95151a8d",
   "metadata": {},
   "outputs": [],
   "source": [
    "x = 1\n",
    "latitudes = []\n",
    "while x < 11:\n",
    "    random_lat = random.randint(-90, 89) + random.random()\n",
    "    latitudes.append(random_lat)\n",
    "    x += 1"
   ]
  },
  {
   "cell_type": "code",
   "execution_count": 8,
   "id": "cd6b34be",
   "metadata": {},
   "outputs": [
    {
     "data": {
      "text/plain": [
       "[2.8809404101369975,\n",
       " 82.58688055749897,\n",
       " -70.11578904774585,\n",
       " -60.54227600593339,\n",
       " 64.13128372088771,\n",
       " 61.44100564503043,\n",
       " 11.350530346350382,\n",
       " -13.659741581157036,\n",
       " -78.33596925186518,\n",
       " -43.7985200121414]"
      ]
     },
     "execution_count": 8,
     "metadata": {},
     "output_type": "execute_result"
    }
   ],
   "source": [
    "latitudes"
   ]
  },
  {
   "cell_type": "code",
   "execution_count": 19,
   "id": "52c1b4f2",
   "metadata": {},
   "outputs": [
    {
     "data": {
      "text/plain": [
       "54"
      ]
     },
     "execution_count": 19,
     "metadata": {},
     "output_type": "execute_result"
    }
   ],
   "source": [
    "random.randrange(-90, 90, step=3)"
   ]
  },
  {
   "cell_type": "code",
   "execution_count": 20,
   "id": "1ffbd048",
   "metadata": {},
   "outputs": [
    {
     "data": {
      "text/plain": [
       "6.409874321800601"
      ]
     },
     "execution_count": 20,
     "metadata": {},
     "output_type": "execute_result"
    }
   ],
   "source": [
    "random.uniform(-90, 90)"
   ]
  },
  {
   "cell_type": "code",
   "execution_count": 21,
   "id": "adc6fb4e",
   "metadata": {},
   "outputs": [],
   "source": [
    "# Import the NumPy mofule.\n",
    "import numpy as np"
   ]
  },
  {
   "cell_type": "code",
   "execution_count": 24,
   "id": "b5811b72",
   "metadata": {},
   "outputs": [
    {
     "data": {
      "text/plain": [
       "array([ 14.19885461, -80.23726314,   1.39431693,  83.79074949,\n",
       "       -23.02096655,  70.50744223, -31.39573143, -58.20770478,\n",
       "       -39.55734333, -14.86038253, -65.60247762, -85.47540605,\n",
       "        -8.83917651,  12.16770036, -44.55405561,  43.43345042,\n",
       "        48.12071412,  78.88741199,  -4.4001686 ,  75.19724327,\n",
       "        -0.22908316, -87.82200854, -70.76944064, -44.89308361,\n",
       "        68.13675871, -32.30311461, -75.37278131,  58.60822439,\n",
       "       -82.61813758, -75.8439794 ,  43.51840951, -65.56009687,\n",
       "       -88.11164768,   6.57034964, -51.30622215,  -2.51082963,\n",
       "        43.56613502, -81.81740419,  45.13332959,  32.40049733,\n",
       "       -77.55071125,  85.21900664,  -4.4979758 ,  36.74011488,\n",
       "       -12.60834554,  -4.10363815,  51.17874336,  76.56149738,\n",
       "        26.3286832 ,  19.43868632])"
      ]
     },
     "execution_count": 24,
     "metadata": {},
     "output_type": "execute_result"
    }
   ],
   "source": [
    "np.random.uniform(-90.000, 90.000, size = 50)"
   ]
  },
  {
   "cell_type": "code",
   "execution_count": 27,
   "id": "a0eb5cc0",
   "metadata": {},
   "outputs": [],
   "source": [
    "# Import timeit: To test how long a piece of code or function takes to run\n",
    "import timeit"
   ]
  },
  {
   "cell_type": "code",
   "execution_count": 29,
   "id": "611f5f3f",
   "metadata": {},
   "outputs": [
    {
     "name": "stdout",
     "output_type": "stream",
     "text": [
      "15.3 µs ± 802 ns per loop (mean ± std. dev. of 7 runs, 100000 loops each)\n"
     ]
    }
   ],
   "source": [
    "%timeit np.random.uniform(-90.000, 90.000, size=1500)"
   ]
  },
  {
   "cell_type": "code",
   "execution_count": 31,
   "id": "2e11dbcb",
   "metadata": {},
   "outputs": [
    {
     "name": "stdout",
     "output_type": "stream",
     "text": [
      "1.99 ms ± 75.7 µs per loop (mean ± std. dev. of 7 runs, 100 loops each)\n"
     ]
    }
   ],
   "source": [
    "def latitudes(size):\n",
    "    latitudes = []\n",
    "    x = 0\n",
    "    while x < (size):\n",
    "        random_lat = random.randint(-90, 90) + random.random()\n",
    "        latitudes.append(random_lat)\n",
    "        x += 1\n",
    "    return latitudes\n",
    "\n",
    "# Call the function with 1500.\n",
    "%timeit latitudes(1500)"
   ]
  },
  {
   "cell_type": "code",
   "execution_count": 32,
   "id": "96bb6bb7",
   "metadata": {},
   "outputs": [],
   "source": [
    "# the above means that the first method (npmrandom.uniform) is 100 times faster than the second one."
   ]
  },
  {
   "cell_type": "code",
   "execution_count": 33,
   "id": "f74e07fe",
   "metadata": {},
   "outputs": [],
   "source": []
  }
 ],
 "metadata": {
  "kernelspec": {
   "display_name": "PythonData",
   "language": "python",
   "name": "pythondata"
  },
  "language_info": {
   "codemirror_mode": {
    "name": "ipython",
    "version": 3
   },
   "file_extension": ".py",
   "mimetype": "text/x-python",
   "name": "python",
   "nbconvert_exporter": "python",
   "pygments_lexer": "ipython3",
   "version": "3.7.11"
  }
 },
 "nbformat": 4,
 "nbformat_minor": 5
}
