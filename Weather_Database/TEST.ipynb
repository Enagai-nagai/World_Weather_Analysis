{
 "cells": [
  {
   "cell_type": "code",
   "execution_count": 1,
   "id": "ed24bb4f",
   "metadata": {},
   "outputs": [],
   "source": [
    "import numpy as np\n",
    "import pandas as pd\n",
    "import numpy as np\n",
    "import os\n",
    "from citipy import citipy\n",
    "from config import weather_api_key\n",
    "import requests\n",
    "import time\n",
    "from datetime import datetime\n"
   ]
  },
  {
   "cell_type": "code",
   "execution_count": 2,
   "id": "b9ac8c45",
   "metadata": {},
   "outputs": [],
   "source": [
    "cities = ['London','Tokyo','Kawasaki']"
   ]
  },
  {
   "cell_type": "code",
   "execution_count": 3,
   "id": "f016716e",
   "metadata": {},
   "outputs": [
    {
     "name": "stdout",
     "output_type": "stream",
     "text": [
      "http://api.openweathermap.org/data/2.5/weather?units=Imperial&APPID=97e5ff16fda84b396fe92c7c8847e123\n"
     ]
    }
   ],
   "source": [
    "url = \"http://api.openweathermap.org/data/2.5/weather?units=Imperial&APPID=\" + weather_api_key\n",
    "print(url)"
   ]
  },
  {
   "cell_type": "code",
   "execution_count": null,
   "id": "30225e40",
   "metadata": {},
   "outputs": [],
   "source": [
    "london_url = url + \"&q=\" + \"london\" \n",
    "london_weather = requests.get(london_url).json()\n",
    "london_country = london_weather['sys']['country'] \n",
    "london_description = london_weather['weather'][0]['description']\n",
    "\n",
    "print(f\"{london_country}, {london_description}\")"
   ]
  },
  {
   "cell_type": "code",
   "execution_count": 4,
   "id": "3ff3989d",
   "metadata": {},
   "outputs": [],
   "source": [
    "city_data = []"
   ]
  },
  {
   "cell_type": "code",
   "execution_count": null,
   "id": "f97d60d2",
   "metadata": {},
   "outputs": [],
   "source": [
    "for city in cities:\n",
    "    city_url = url + \"&q=\" + city.replace(\" \",\"+\")\n",
    "    city_weather = requests.get(city_url).json()\n",
    "    \n",
    "    city_lat = city_weather[\"coord\"][\"lat\"]\n",
    "    city_lng = city_weather[\"coord\"][\"lon\"]\n",
    "    city_max_temp = city_weather[\"main\"][\"temp_max\"]\n",
    "    city_humidity = city_weather[\"main\"][\"humidity\"]\n",
    "    city_clouds = city_weather[\"clouds\"][\"all\"]\n",
    "    city_wind = city_weather[\"wind\"][\"speed\"]\n",
    "    city_weather_description = city_weather['weather'][0]['description']\n",
    "    city_country = city_weather['sys']['country']\n",
    "    city_date = datetime.utcfromtimestamp(city_weather[\"dt\"]).strftime('%Y-%m-%d %H:%M:%S')\n",
    "    \n",
    "    \n",
    "    city_data.append({\"City\": city.title(),\n",
    "                          \"Lat\": city_lat,\n",
    "                          \"Lng\": city_lng,\n",
    "                          \"Max Temp\": city_max_temp,\n",
    "                          \"Humidity\": city_humidity,\n",
    "                          \"Cloudiness\": city_clouds,\n",
    "                          \"Wind Speed\": city_wind,\n",
    "                          \"Current Description\": city_weather_description,\n",
    "                          \"Date\": city_date,\n",
    "                          \"Country\": city_country})\n",
    "    \n",
    "    print(\"Done\")\n",
    "    \n",
    "city_data\n"
   ]
  },
  {
   "cell_type": "code",
   "execution_count": 5,
   "id": "b6ebf2c3",
   "metadata": {},
   "outputs": [
    {
     "name": "stdout",
     "output_type": "stream",
     "text": [
      "Done\n",
      "Done\n",
      "Done\n"
     ]
    }
   ],
   "source": [
    "## for city in cities:\n",
    "for city in cities:\n",
    "    \n",
    "    city_url = url + \"&q=\" + city.replace(\" \",\"+\")\n",
    "    city_weather = requests.get(city_url).json()\n",
    "    city_lat = city_weather[\"coord\"][\"lat\"]\n",
    "    city_lng = city_weather[\"coord\"][\"lon\"]\n",
    "    city_max_temp = city_weather[\"main\"][\"temp_max\"]\n",
    "    city_humidity = city_weather[\"main\"][\"humidity\"]\n",
    "    city_clouds = city_weather[\"clouds\"][\"all\"]\n",
    "    city_wind = city_weather[\"wind\"][\"speed\"]\n",
    "    city_weather_description = city_weather['weather'][0]['description']\n",
    "    city_country = city_weather['sys']['country']\n",
    "\n",
    "    city_date = datetime.utcfromtimestamp(city_weather[\"dt\"]).strftime('%Y-%m-%d %H:%M:%S')\n",
    "    city_data.append({\"City\": city.title(),\n",
    "                      \"Lat\": city_lat,\n",
    "                      \"Lng\": city_lng,\n",
    "                      \"Max Temp\": city_max_temp,\n",
    "                      \"Humidity\": city_humidity,\n",
    "                      \"Cloudiness\": city_clouds,\n",
    "                      \"Wind Speed\": city_wind,\n",
    "                      \"Current Description\": city_weather_description,\n",
    "                      \"Date\": city_date,\n",
    "                      \"Country\": city_country})\n",
    "    print(\"Done\")\n",
    "\n",
    "    #except:\n",
    "        #print(\"City not found\")\n",
    "        #pass"
   ]
  },
  {
   "cell_type": "code",
   "execution_count": 6,
   "id": "41d2b8c5",
   "metadata": {},
   "outputs": [
    {
     "data": {
      "text/plain": [
       "[{'City': 'London',\n",
       "  'Lat': 51.5085,\n",
       "  'Lng': -0.1257,\n",
       "  'Max Temp': 63.55,\n",
       "  'Humidity': 68,\n",
       "  'Cloudiness': 99,\n",
       "  'Wind Speed': 9.22,\n",
       "  'Current Description': 'overcast clouds',\n",
       "  'Date': '2022-05-14 20:40:45',\n",
       "  'Country': 'GB'},\n",
       " {'City': 'Tokyo',\n",
       "  'Lat': 35.6895,\n",
       "  'Lng': 139.6917,\n",
       "  'Max Temp': 63.63,\n",
       "  'Humidity': 68,\n",
       "  'Cloudiness': 75,\n",
       "  'Wind Speed': 16.11,\n",
       "  'Current Description': 'broken clouds',\n",
       "  'Date': '2022-05-14 20:40:12',\n",
       "  'Country': 'JP'},\n",
       " {'City': 'Kawasaki',\n",
       "  'Lat': 35.5206,\n",
       "  'Lng': 139.7172,\n",
       "  'Max Temp': 64.09,\n",
       "  'Humidity': 71,\n",
       "  'Cloudiness': 75,\n",
       "  'Wind Speed': 16.11,\n",
       "  'Current Description': 'broken clouds',\n",
       "  'Date': '2022-05-14 20:41:13',\n",
       "  'Country': 'JP'}]"
      ]
     },
     "execution_count": 6,
     "metadata": {},
     "output_type": "execute_result"
    }
   ],
   "source": [
    "city_data"
   ]
  }
 ],
 "metadata": {
  "kernelspec": {
   "display_name": "PythonData",
   "language": "python",
   "name": "pythondata"
  },
  "language_info": {
   "codemirror_mode": {
    "name": "ipython",
    "version": 3
   },
   "file_extension": ".py",
   "mimetype": "text/x-python",
   "name": "python",
   "nbconvert_exporter": "python",
   "pygments_lexer": "ipython3",
   "version": "3.7.11"
  }
 },
 "nbformat": 4,
 "nbformat_minor": 5
}
